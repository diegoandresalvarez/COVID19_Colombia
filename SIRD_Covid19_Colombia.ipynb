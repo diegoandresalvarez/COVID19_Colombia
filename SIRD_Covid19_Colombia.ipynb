{
 "cells": [
  {
   "cell_type": "markdown",
   "metadata": {},
   "source": [
    "# Modelo SIRD de la pandemia COVID-19 en Colombia\n",
    "\n",
    "Por:\n",
    "\n",
    "Diego Andrés Alvarez Marín, Phd\n",
    "\n",
    "Profesor Asociado de Ingeniería Civil\n",
    "\n",
    "Facultad de Ingeniería y Arquitectura\n",
    "\n",
    "Universidad Nacional de Colombia, Sede Manizales\n",
    "\n",
    "daalvarez@unal.edu.co"
   ]
  },
  {
   "cell_type": "markdown",
   "metadata": {},
   "source": [
    "El objetivo de este cuaderno es realizar una proyección del COVID19 en Colombia basado en el modelo epidemiológico **SIRD** (**S**=susceptibles, **I**=infectados, **R**=recuperados, **D**=deaths - muertes). Los datos empleados en la modelación corresponden a los que han sido públicamente difundidos por el [Instituto Nacional  de  Salud](https://www.ins.gov.co).\n",
    "\n",
    "## El modelo SIRD\n",
    "El modelo SIRD es uno de los modelos epidemiológicos más sencillos y populares, ya que este es capaz de capturar muchas de las características típicas de los brotes epidémicos. El modelo divide la población expuesta a la infección en cuatro grupos mutuamente excluyentes:\n",
    "\n",
    "* Población susceptible ($S$): individuos sin inmunidad al agente infeccioso y que por tanto pueden ser infectados si son expuestos a este.\n",
    "\n",
    "* Población infectada ($I$): individuos que están infectados en un momento dado y pueden transmitir la infección a personas de la población susceptibles con los que entran en contacto.\n",
    "\n",
    "* Población recuperada ($R$), individuos que se curaron de la infección, que ahora son inmunes y que ya no la propagan.\n",
    "\n",
    "* Defunciones/Fallecidos ($D$): individuos que murieron a causa del agente infeccioso.\n",
    "\n",
    "La suma de estas cuatro variables es la constante $N = S+I+R+D$ y es igual a la población total, que en Colombia equivale a:"
   ]
  },
  {
   "cell_type": "code",
   "execution_count": 19,
   "metadata": {},
   "outputs": [],
   "source": [
    "N = 50_372_424 # personas"
   ]
  },
  {
   "cell_type": "markdown",
   "metadata": {},
   "source": [
    "El modelo SIRD relaciona los cambios en estas cuatro poblaciones a través tres parámetros:\n",
    "* la tasa de infección o transmisión $\\beta$ que representa el número promedio de individuos susceptibles que una infectado contagia por día. Esta variable depende del grado de distanciamiento social y de las prácticas higiénicas que adopte la población. Poco distanciamiento social y malas prácticas higiénicas se reflejan en un $\\beta$ alto.\n",
    "* la tasa de recuperación $\\gamma$, la cual representa la tasa de personas infectadas que se recuperan y dejan de ser contagiosas.\n",
    "* la tasa de mortalidad $\\mu$, la cual representa la tasa de personas infectadas que mueren.\n",
    "\n",
    "El modelo SIRD utiliza el sistema de ecuaciones diferenciales ordinarias no lineales:"
   ]
  },
  {
   "cell_type": "markdown",
   "metadata": {},
   "source": [
    "$$\n",
    "\\begin{align}\n",
    "& \\frac{dS(t)}{dt} = - \\frac{\\beta I(t) S(t)}{N} \\\\\n",
    "& \\frac{dI(t)}{dt} = \\frac{\\beta I(t) S(t)}{N} - \\gamma I(t) - \\mu I(t) \\\\\n",
    "& \\frac{dR(t)}{dt} = \\gamma I(t) \\\\\n",
    "& \\frac{dD(t)}{dt} = \\mu I(t)\n",
    "\\end{align}\n",
    "$$"
   ]
  },
  {
   "cell_type": "markdown",
   "metadata": {},
   "source": [
    "donde la variable tiempo $t$ se modela en días. Dicho sistema de ecuaciones diferenciales se puede modelar en el lenguaje de programación Python así:"
   ]
  },
  {
   "cell_type": "code",
   "execution_count": 2,
   "metadata": {},
   "outputs": [],
   "source": [
    "# S(t): número de personas susceptibles en el día t\n",
    "# I(t): número de personas infectadas   en el día t\n",
    "# R(t): número de personas recuperadas  en el día t\n",
    "# D(t): número de personas fallecidas   en el día t\n",
    "def dx_dt_SIRD(x, t, param):\n",
    "    S, I, R, D = x\n",
    "    beta, gamma, mu = param\n",
    "    dS_dt = -beta*S*I/N\n",
    "    dI_dt =  beta*S*I/N - gamma*I - mu*I\n",
    "    dR_dt =  gamma*I\n",
    "    dD_dt =  mu*I\n",
    "    return [dS_dt, dI_dt, dR_dt, dD_dt]"
   ]
  },
  {
   "cell_type": "markdown",
   "metadata": {},
   "source": [
    "## Limitaciones y suposiciones del modelo SIRD\n",
    "El modelo SIRD hace las siguientes suposiciones:\n",
    "* La interacción entre los individuos es aleatoria.\n",
    "* Las personas recuperadas no se reinfectan.\n",
    "* No se tiene en cuenta que la población $N$ es variable debido a fenómenos como nacimientos y muertes por otras causas y viajes al extranjero.\n",
    "* La población es de tamaño fijo. El modelo no tiene en cuenta que después de infectada una persona existe un periodo en el cual el infectado no propaga la enfermedad. Para el COVID19 se dice que el periodo de propagación por parte de una persona infectada empieza aproximadamente 3 días antes de presentar síntomas visibles y se mantiene por 7 a 9 días después de este evento.\n",
    "* Las políticas públicas que propenden por el control de la infección no cambian en el tiempo y están representadas en la muestra inicial con la que se ajusta el modelo.\n",
    "* La naturaleza infecciosa del virus no cambia en el tiempo; en otras palabras, el modelo no tiene en cuenta que las enfermedades tienen periodos en las cuales son más contagiosas.\n",
    "* El modelo no tiene en cuenta que la población está distribuída de forma heterogénea por el país.\n",
    "* De acuerdo a las ecuaciones diferenciales el término $\\frac{\\beta I(t) S(t)}{N}$ refleja el hecho de que todos los infectados tienen igual capacidad de contagiar el virus y que todas las personas susceptibles tienen las mismas probabilidades de contagiarse, lo cual es poco ideal en un escenario real. Por lo tanto, el modelo asume que la población es homogénea.\n",
    "* El modelo no tiene en cuenta que al saturarse el sistema de salud, la tasa de mortalidad $\\mu$ tiende a crecer."
   ]
  },
  {
   "cell_type": "markdown",
   "metadata": {},
   "source": [
    "## Datos para el ajuste"
   ]
  },
  {
   "cell_type": "markdown",
   "metadata": {},
   "source": [
    "Se utilizaron los datos que son publicados diariamente por el [Instituto Nacional  de  Salud](https://www.ins.gov.co/Noticias/paginas/coronavirus.aspx). En particular, se usó la base de datos tabulada por [ESRI Colombia](http://datosabiertos.esri.co/datasets). De dicha información se extraen los datos a partir de abril 10 de 2020, ya que en abril 5 y 6 hay una inconsistencia en los datos (no suman correctamente) y en abril 8 y 9 las fechas fueron presentadas con un formato diferente al resto, lo que podría corresponder a un error. De este modo, la base de datos útil se convierte en:"
   ]
  },
  {
   "cell_type": "code",
   "execution_count": 3,
   "metadata": {},
   "outputs": [
    {
     "data": {
      "text/html": [
       "<div>\n",
       "<style scoped>\n",
       "    .dataframe tbody tr th:only-of-type {\n",
       "        vertical-align: middle;\n",
       "    }\n",
       "\n",
       "    .dataframe tbody tr th {\n",
       "        vertical-align: top;\n",
       "    }\n",
       "\n",
       "    .dataframe thead th {\n",
       "        text-align: right;\n",
       "    }\n",
       "</style>\n",
       "<table border=\"1\" class=\"dataframe\">\n",
       "  <thead>\n",
       "    <tr style=\"text-align: right;\">\n",
       "      <th></th>\n",
       "      <th>TOTAL_CASOS</th>\n",
       "      <th>TOTAL_MUERTES</th>\n",
       "      <th>TOTAL_RECUPERADOS</th>\n",
       "      <th>FECHA_ACTUALIZACION</th>\n",
       "    </tr>\n",
       "  </thead>\n",
       "  <tbody>\n",
       "    <tr>\n",
       "      <th>0</th>\n",
       "      <td>2473</td>\n",
       "      <td>80</td>\n",
       "      <td>197</td>\n",
       "      <td>2020/04/10 05:00:00+00</td>\n",
       "    </tr>\n",
       "    <tr>\n",
       "      <th>1</th>\n",
       "      <td>2709</td>\n",
       "      <td>100</td>\n",
       "      <td>214</td>\n",
       "      <td>2020/04/11 05:00:00+00</td>\n",
       "    </tr>\n",
       "    <tr>\n",
       "      <th>2</th>\n",
       "      <td>2776</td>\n",
       "      <td>109</td>\n",
       "      <td>270</td>\n",
       "      <td>2020/04/12 05:00:00+00</td>\n",
       "    </tr>\n",
       "    <tr>\n",
       "      <th>3</th>\n",
       "      <td>2852</td>\n",
       "      <td>112</td>\n",
       "      <td>319</td>\n",
       "      <td>2020/04/13 05:00:00+00</td>\n",
       "    </tr>\n",
       "    <tr>\n",
       "      <th>4</th>\n",
       "      <td>2979</td>\n",
       "      <td>127</td>\n",
       "      <td>354</td>\n",
       "      <td>2020/04/14 05:00:00+00</td>\n",
       "    </tr>\n",
       "    <tr>\n",
       "      <th>...</th>\n",
       "      <td>...</td>\n",
       "      <td>...</td>\n",
       "      <td>...</td>\n",
       "      <td>...</td>\n",
       "    </tr>\n",
       "    <tr>\n",
       "      <th>112</th>\n",
       "      <td>295508</td>\n",
       "      <td>10105</td>\n",
       "      <td>154387</td>\n",
       "      <td>2020/07/31 05:00:00+00</td>\n",
       "    </tr>\n",
       "    <tr>\n",
       "      <th>113</th>\n",
       "      <td>306181</td>\n",
       "      <td>10330</td>\n",
       "      <td>160708</td>\n",
       "      <td>2020/08/01 05:00:00+00</td>\n",
       "    </tr>\n",
       "    <tr>\n",
       "      <th>114</th>\n",
       "      <td>317651</td>\n",
       "      <td>10650</td>\n",
       "      <td>167239</td>\n",
       "      <td>2020/08/02 05:00:00+00</td>\n",
       "    </tr>\n",
       "    <tr>\n",
       "      <th>115</th>\n",
       "      <td>327850</td>\n",
       "      <td>11017</td>\n",
       "      <td>173727</td>\n",
       "      <td>2020/08/03 05:00:00+00</td>\n",
       "    </tr>\n",
       "    <tr>\n",
       "      <th>116</th>\n",
       "      <td>334979</td>\n",
       "      <td>11315</td>\n",
       "      <td>180258</td>\n",
       "      <td>2020/08/04 05:00:00+00</td>\n",
       "    </tr>\n",
       "  </tbody>\n",
       "</table>\n",
       "<p>117 rows × 4 columns</p>\n",
       "</div>"
      ],
      "text/plain": [
       "     TOTAL_CASOS  TOTAL_MUERTES  TOTAL_RECUPERADOS     FECHA_ACTUALIZACION\n",
       "0           2473             80                197  2020/04/10 05:00:00+00\n",
       "1           2709            100                214  2020/04/11 05:00:00+00\n",
       "2           2776            109                270  2020/04/12 05:00:00+00\n",
       "3           2852            112                319  2020/04/13 05:00:00+00\n",
       "4           2979            127                354  2020/04/14 05:00:00+00\n",
       "..           ...            ...                ...                     ...\n",
       "112       295508          10105             154387  2020/07/31 05:00:00+00\n",
       "113       306181          10330             160708  2020/08/01 05:00:00+00\n",
       "114       317651          10650             167239  2020/08/02 05:00:00+00\n",
       "115       327850          11017             173727  2020/08/03 05:00:00+00\n",
       "116       334979          11315             180258  2020/08/04 05:00:00+00\n",
       "\n",
       "[117 rows x 4 columns]"
      ]
     },
     "execution_count": 3,
     "metadata": {},
     "output_type": "execute_result"
    }
   ],
   "source": [
    "import pandas as pd\n",
    "dfcompleto = pd.read_csv('Colombia_COVID19_Coronavirus_casos_diarios.csv', \n",
    "      skiprows=[i for i in range(1,36)],\n",
    "      usecols=['FECHA_ACTUALIZACION','TOTAL_RECUPERADOS', 'TOTAL_MUERTES', 'TOTAL_CASOS'])\n",
    "\n",
    "dfcompleto"
   ]
  },
  {
   "cell_type": "markdown",
   "metadata": {},
   "source": [
    "Para hacer la regresión, se seleccionaron los últimos 21 días,"
   ]
  },
  {
   "cell_type": "code",
   "execution_count": 21,
   "metadata": {},
   "outputs": [],
   "source": [
    "# La regresión se hará utilizando los últimos \"Ndata\" días de la base de datos\n",
    "Ndata = 21 # días = 3 semanas"
   ]
  },
  {
   "cell_type": "markdown",
   "metadata": {},
   "source": [
    "ya que la información más reciente representa las acciones gubernamentales en curso y la historia de contagios, recuperación y muerte en el país:"
   ]
  },
  {
   "cell_type": "code",
   "execution_count": 5,
   "metadata": {},
   "outputs": [],
   "source": [
    "# Utilizar los datos de los últimos \"Ndata\" días para hacer el ajuste\n",
    "df = dfcompleto.tail(Ndata) \n",
    "fecha_regresion = pd.to_datetime(df['FECHA_ACTUALIZACION'])\n",
    "fecha_hoy = fecha_regresion.iloc[-1]\n",
    "Rd = df['TOTAL_RECUPERADOS'].to_numpy() # número de recuperados\n",
    "Dd = df['TOTAL_MUERTES'].to_numpy()     # número de fallecidos\n",
    "Td = df['TOTAL_CASOS'].to_numpy()       # número de casos reportados\n",
    "Id = Td - Dd - Rd                       # número de infectados\n",
    "Sd = N - Td                             # número de personas susceptibles"
   ]
  },
  {
   "cell_type": "markdown",
   "metadata": {},
   "source": [
    "de modo que la base de datos empleada para hacer la regresión se convierte en:"
   ]
  },
  {
   "cell_type": "code",
   "execution_count": 6,
   "metadata": {},
   "outputs": [
    {
     "data": {
      "text/html": [
       "<div>\n",
       "<style scoped>\n",
       "    .dataframe tbody tr th:only-of-type {\n",
       "        vertical-align: middle;\n",
       "    }\n",
       "\n",
       "    .dataframe tbody tr th {\n",
       "        vertical-align: top;\n",
       "    }\n",
       "\n",
       "    .dataframe thead th {\n",
       "        text-align: right;\n",
       "    }\n",
       "</style>\n",
       "<table border=\"1\" class=\"dataframe\">\n",
       "  <thead>\n",
       "    <tr style=\"text-align: right;\">\n",
       "      <th></th>\n",
       "      <th>TOTAL_CASOS</th>\n",
       "      <th>TOTAL_MUERTES</th>\n",
       "      <th>TOTAL_RECUPERADOS</th>\n",
       "      <th>FECHA_ACTUALIZACION</th>\n",
       "    </tr>\n",
       "  </thead>\n",
       "  <tbody>\n",
       "    <tr>\n",
       "      <th>96</th>\n",
       "      <td>165169</td>\n",
       "      <td>5814</td>\n",
       "      <td>71738</td>\n",
       "      <td>2020/07/15 05:00:00+00</td>\n",
       "    </tr>\n",
       "    <tr>\n",
       "      <th>97</th>\n",
       "      <td>173206</td>\n",
       "      <td>6029</td>\n",
       "      <td>76164</td>\n",
       "      <td>2020/07/16 05:00:00+00</td>\n",
       "    </tr>\n",
       "    <tr>\n",
       "      <th>98</th>\n",
       "      <td>182140</td>\n",
       "      <td>6288</td>\n",
       "      <td>80637</td>\n",
       "      <td>2020/07/17 05:00:00+00</td>\n",
       "    </tr>\n",
       "    <tr>\n",
       "      <th>99</th>\n",
       "      <td>190700</td>\n",
       "      <td>6516</td>\n",
       "      <td>85836</td>\n",
       "      <td>2020/07/18 05:00:00+00</td>\n",
       "    </tr>\n",
       "    <tr>\n",
       "      <th>100</th>\n",
       "      <td>197278</td>\n",
       "      <td>6736</td>\n",
       "      <td>91793</td>\n",
       "      <td>2020/07/19 05:00:00+00</td>\n",
       "    </tr>\n",
       "    <tr>\n",
       "      <th>101</th>\n",
       "      <td>204005</td>\n",
       "      <td>6929</td>\n",
       "      <td>95804</td>\n",
       "      <td>2020/07/20 05:00:00+00</td>\n",
       "    </tr>\n",
       "    <tr>\n",
       "      <th>102</th>\n",
       "      <td>211038</td>\n",
       "      <td>7166</td>\n",
       "      <td>98840</td>\n",
       "      <td>2020/07/21 05:00:00+00</td>\n",
       "    </tr>\n",
       "    <tr>\n",
       "      <th>103</th>\n",
       "      <td>218428</td>\n",
       "      <td>7373</td>\n",
       "      <td>101613</td>\n",
       "      <td>2020/07/22 05:00:00+00</td>\n",
       "    </tr>\n",
       "    <tr>\n",
       "      <th>104</th>\n",
       "      <td>226373</td>\n",
       "      <td>7688</td>\n",
       "      <td>107951</td>\n",
       "      <td>2020/07/23 05:00:00+00</td>\n",
       "    </tr>\n",
       "    <tr>\n",
       "      <th>105</th>\n",
       "      <td>233541</td>\n",
       "      <td>7975</td>\n",
       "      <td>113864</td>\n",
       "      <td>2020/07/24 05:00:00+00</td>\n",
       "    </tr>\n",
       "    <tr>\n",
       "      <th>106</th>\n",
       "      <td>240795</td>\n",
       "      <td>8269</td>\n",
       "      <td>119667</td>\n",
       "      <td>2020/07/25 05:00:00+00</td>\n",
       "    </tr>\n",
       "    <tr>\n",
       "      <th>107</th>\n",
       "      <td>248976</td>\n",
       "      <td>8525</td>\n",
       "      <td>125037</td>\n",
       "      <td>2020/07/26 05:00:00+00</td>\n",
       "    </tr>\n",
       "    <tr>\n",
       "      <th>108</th>\n",
       "      <td>257101</td>\n",
       "      <td>8777</td>\n",
       "      <td>131161</td>\n",
       "      <td>2020/07/27 05:00:00+00</td>\n",
       "    </tr>\n",
       "    <tr>\n",
       "      <th>109</th>\n",
       "      <td>267385</td>\n",
       "      <td>9074</td>\n",
       "      <td>136690</td>\n",
       "      <td>2020/07/28 05:00:00+00</td>\n",
       "    </tr>\n",
       "    <tr>\n",
       "      <th>110</th>\n",
       "      <td>276055</td>\n",
       "      <td>9454</td>\n",
       "      <td>142777</td>\n",
       "      <td>2020/07/29 05:00:00+00</td>\n",
       "    </tr>\n",
       "    <tr>\n",
       "      <th>111</th>\n",
       "      <td>286020</td>\n",
       "      <td>9810</td>\n",
       "      <td>148695</td>\n",
       "      <td>2020/07/30 05:00:00+00</td>\n",
       "    </tr>\n",
       "    <tr>\n",
       "      <th>112</th>\n",
       "      <td>295508</td>\n",
       "      <td>10105</td>\n",
       "      <td>154387</td>\n",
       "      <td>2020/07/31 05:00:00+00</td>\n",
       "    </tr>\n",
       "    <tr>\n",
       "      <th>113</th>\n",
       "      <td>306181</td>\n",
       "      <td>10330</td>\n",
       "      <td>160708</td>\n",
       "      <td>2020/08/01 05:00:00+00</td>\n",
       "    </tr>\n",
       "    <tr>\n",
       "      <th>114</th>\n",
       "      <td>317651</td>\n",
       "      <td>10650</td>\n",
       "      <td>167239</td>\n",
       "      <td>2020/08/02 05:00:00+00</td>\n",
       "    </tr>\n",
       "    <tr>\n",
       "      <th>115</th>\n",
       "      <td>327850</td>\n",
       "      <td>11017</td>\n",
       "      <td>173727</td>\n",
       "      <td>2020/08/03 05:00:00+00</td>\n",
       "    </tr>\n",
       "    <tr>\n",
       "      <th>116</th>\n",
       "      <td>334979</td>\n",
       "      <td>11315</td>\n",
       "      <td>180258</td>\n",
       "      <td>2020/08/04 05:00:00+00</td>\n",
       "    </tr>\n",
       "  </tbody>\n",
       "</table>\n",
       "</div>"
      ],
      "text/plain": [
       "     TOTAL_CASOS  TOTAL_MUERTES  TOTAL_RECUPERADOS     FECHA_ACTUALIZACION\n",
       "96        165169           5814              71738  2020/07/15 05:00:00+00\n",
       "97        173206           6029              76164  2020/07/16 05:00:00+00\n",
       "98        182140           6288              80637  2020/07/17 05:00:00+00\n",
       "99        190700           6516              85836  2020/07/18 05:00:00+00\n",
       "100       197278           6736              91793  2020/07/19 05:00:00+00\n",
       "101       204005           6929              95804  2020/07/20 05:00:00+00\n",
       "102       211038           7166              98840  2020/07/21 05:00:00+00\n",
       "103       218428           7373             101613  2020/07/22 05:00:00+00\n",
       "104       226373           7688             107951  2020/07/23 05:00:00+00\n",
       "105       233541           7975             113864  2020/07/24 05:00:00+00\n",
       "106       240795           8269             119667  2020/07/25 05:00:00+00\n",
       "107       248976           8525             125037  2020/07/26 05:00:00+00\n",
       "108       257101           8777             131161  2020/07/27 05:00:00+00\n",
       "109       267385           9074             136690  2020/07/28 05:00:00+00\n",
       "110       276055           9454             142777  2020/07/29 05:00:00+00\n",
       "111       286020           9810             148695  2020/07/30 05:00:00+00\n",
       "112       295508          10105             154387  2020/07/31 05:00:00+00\n",
       "113       306181          10330             160708  2020/08/01 05:00:00+00\n",
       "114       317651          10650             167239  2020/08/02 05:00:00+00\n",
       "115       327850          11017             173727  2020/08/03 05:00:00+00\n",
       "116       334979          11315             180258  2020/08/04 05:00:00+00"
      ]
     },
     "execution_count": 6,
     "metadata": {},
     "output_type": "execute_result"
    }
   ],
   "source": [
    "df"
   ]
  },
  {
   "cell_type": "markdown",
   "metadata": {},
   "source": [
    "## Preparación del modelo\n",
    "Para la solución del modelo matemático, requiere la especificación de unos valores tentativos de los parámetros y unas condiciones iniciales. \n",
    "\n",
    "### Parámetros iniciales\n",
    "Para la especificación de los valores tentativos de los parámetros iniciales, se consultó en la [literatura](https://arxiv.org/pdf/2003.14288.pdf) los rangos de valores asociadas a las constantes $\\beta$, $\\gamma$ y $\\mu$. De esta forma se especificaron:"
   ]
  },
  {
   "cell_type": "code",
   "execution_count": 7,
   "metadata": {},
   "outputs": [],
   "source": [
    "beta0  = 0.044      # tasa de transmisión [1/día]\n",
    "gamma0 = 0.015      # tasa de recuperación [1/día]\n",
    "mu0    = 0.0045     # tasa de mortalidad [1/día]"
   ]
  },
  {
   "cell_type": "markdown",
   "metadata": {},
   "source": [
    "### Condiciones iniciales\n",
    "Se definieron como condiciones iniciales aquellas asociadas al primer día del rango de datos usado para la regresión:"
   ]
  },
  {
   "cell_type": "code",
   "execution_count": 8,
   "metadata": {},
   "outputs": [],
   "source": [
    "# %% Se definen las condiciones iniciales de la ecuación diferencial\n",
    "x0 = [Sd[0], Id[0], Rd[0], Dd[0]]"
   ]
  },
  {
   "cell_type": "markdown",
   "metadata": {},
   "source": [
    "Los cuales corresponden a la fecha:"
   ]
  },
  {
   "cell_type": "code",
   "execution_count": 9,
   "metadata": {},
   "outputs": [
    {
     "data": {
      "text/plain": [
       "'2020/07/15 05:00:00+00'"
      ]
     },
     "execution_count": 9,
     "metadata": {},
     "output_type": "execute_result"
    }
   ],
   "source": [
    "df['FECHA_ACTUALIZACION'].iloc[0]"
   ]
  },
  {
   "cell_type": "markdown",
   "metadata": {},
   "source": [
    "### Regresión no lineal\n",
    "Con la información anterior se realizó una regresión no lineal para ajustar los datos colombianos al modelo matemático:"
   ]
  },
  {
   "cell_type": "code",
   "execution_count": 10,
   "metadata": {},
   "outputs": [],
   "source": [
    "import numpy as np\n",
    "from scipy.integrate import odeint\n",
    "from scipy.optimize import least_squares\n",
    "\n",
    "# Eje del tiempo [días] para los datos de la regresión\n",
    "t = np.arange(Ndata) \n",
    "\n",
    "# Se encuentran los parámetros del sistema de ecuaciones diferenciales que \n",
    "# mejor se ajusten a los datos \n",
    "def fun_residuo(params):\n",
    "    sol = odeint(dx_dt_SIRD, x0, t, args=(params, ))\n",
    "    S, I, R, D = sol.T\n",
    "    return np.array([ (S-Sd)/Sd[-1], (I-Id)/Id[-1], (R-Rd)/Rd[-1], (D-Dd)/Dd[-1] ]).flatten()\n",
    "\n",
    "paramsLS = least_squares(fun_residuo, [beta0, gamma0, mu0])\n",
    "beta, gamma, mu = paramsLS.x"
   ]
  },
  {
   "cell_type": "markdown",
   "metadata": {},
   "source": [
    "Obteniendo los siguientes resultados:"
   ]
  },
  {
   "cell_type": "code",
   "execution_count": 11,
   "metadata": {},
   "outputs": [
    {
     "name": "stdout",
     "output_type": "stream",
     "text": [
      "Los parámetros encontrados son:\n",
      "beta  = 0.076049\n",
      "gamma = 0.047772\n",
      "mu    = 0.002433\n"
     ]
    }
   ],
   "source": [
    "print('Los parámetros encontrados son:')\n",
    "print(f'beta  = {beta:.6f}')\n",
    "print(f'gamma = {gamma:.6f}')\n",
    "print(f'mu    = {mu:.6f}')"
   ]
  },
  {
   "cell_type": "markdown",
   "metadata": {},
   "source": [
    "De ellos se puede obtener dos variables relevantes:\n",
    "* El número básico de reproducción $R_0 = \\frac{\\beta}{\\gamma+\\mu}$, el cual indica la cantidad de personas que en promedio contagiaría un infectado durante su enfermedad. Este número es bastante importante, ya que cuando $R_0 < 1$ se dice que la pandemia está controlada."
   ]
  },
  {
   "cell_type": "code",
   "execution_count": 12,
   "metadata": {},
   "outputs": [
    {
     "name": "stdout",
     "output_type": "stream",
     "text": [
      "Número básico de reproducción R_0 = 1.51\n"
     ]
    }
   ],
   "source": [
    "print(f'Número básico de reproducción R_0 = {beta/(gamma+mu):.2f}')"
   ]
  },
  {
   "cell_type": "markdown",
   "metadata": {},
   "source": [
    "* El período infeccioso promedio $\\frac{1}{\\gamma+\\mu}$ que representa el tiempo promedio (en días) que un infectado es diseminador de la infección."
   ]
  },
  {
   "cell_type": "code",
   "execution_count": 22,
   "metadata": {},
   "outputs": [
    {
     "name": "stdout",
     "output_type": "stream",
     "text": [
      "Periodo infeccioso promedio = 19.92 días\n"
     ]
    }
   ],
   "source": [
    "print(f'Periodo infeccioso promedio = {1/(gamma+mu):.2f} días')"
   ]
  },
  {
   "cell_type": "markdown",
   "metadata": {},
   "source": [
    "## Estimación de la evolución del COVID 19 en Colombia\n",
    "Una vez encontrados los parámetros del modelo se hizo la estimación de la evolución del COVID 19 para los siguientes 15 meses utilizando el siguiente código:"
   ]
  },
  {
   "cell_type": "code",
   "execution_count": 14,
   "metadata": {},
   "outputs": [],
   "source": [
    "# %% Resuelva la ecuación diferencial utilizando los parámetros encontrados\n",
    "N_dias_pronostico = Ndata + 15*30 # días\n",
    "\n",
    "t = np.arange(N_dias_pronostico)\n",
    "sol = odeint(dx_dt_SIRD, x0, t, args=(paramsLS.x, ))\n",
    "S, I, R, D = sol.T"
   ]
  },
  {
   "cell_type": "markdown",
   "metadata": {},
   "source": [
    "La calidad de la regresión se puede apreciar en el siguiente gráfico, el cual muestra el buen ajuste del modelo matemático a la muestra:"
   ]
  },
  {
   "cell_type": "code",
   "execution_count": 15,
   "metadata": {},
   "outputs": [
    {
     "data": {
      "text/plain": [
       "<matplotlib.legend.Legend at 0x7f17fa6f69a0>"
      ]
     },
     "execution_count": 15,
     "metadata": {},
     "output_type": "execute_result"
    },
    {
     "data": {
      "image/png": "[encoded data removed]",
      "text/plain": [
       "<Figure size 936x576 with 1 Axes>"
      ]
     },
     "metadata": {
      "needs_background": "light"
     },
     "output_type": "display_data"
    }
   ],
   "source": [
    "import matplotlib\n",
    "import matplotlib.pyplot as plt\n",
    "%matplotlib inline\n",
    "plt.rcParams[\"figure.figsize\"] = 13,8\n",
    "\n",
    "\n",
    "esc = 1_000 # miles\n",
    "df_res = pd.DataFrame({\n",
    "           'fecha':fecha_regresion, \n",
    "           #'Estimación Susceptibles':S[:Ndata]/esc,\n",
    "           'Estimación Casos confirmados':(I[:Ndata]+R[:Ndata]+D[:Ndata])/esc,\n",
    "           'Estimación Infectados':I[:Ndata]/esc,\n",
    "           'Estimación Recuperados':R[:Ndata]/esc, \n",
    "           'Estimación Decesos':D[:Ndata]/esc,\n",
    "           #'Dato Susceptibles':Sd/esc, \n",
    "           'Dato Casos confirmados':Td/esc, \n",
    "           'Dato Infectados':Id/esc, \n",
    "           'Dato Recuperados':Rd/esc, \n",
    "           'Dato Decesos':Dd/esc, \n",
    "         }).set_index('fecha')\n",
    "fig, ax = plt.subplots()\n",
    "df_res.plot(style=['m-','b-','r-','g-','m.','b.','r.','g.'], ax=ax)\n",
    "ax.set_xlabel(\"Fecha\")\n",
    "ax.set_ylabel(\"Personas [miles]\")\n",
    "ax.set_title(f'Ajuste del modelo SIRD a los datos de los últimos {Ndata} días\\n'\n",
    "             f'Fecha de ajuste: {fecha_hoy.strftime(\"%b %d, %Y\")}')\n",
    "ax.legend(loc='best')"
   ]
  },
  {
   "cell_type": "markdown",
   "metadata": {},
   "source": [
    "Y haciendo una proyección sobre los siguientes 15 meses resulta:"
   ]
  },
  {
   "cell_type": "code",
   "execution_count": 16,
   "metadata": {},
   "outputs": [
    {
     "data": {
      "image/png": "[encoded data removed]",
      "text/plain": [
       "<Figure size 936x576 with 1 Axes>"
      ]
     },
     "metadata": {
      "needs_background": "light"
     },
     "output_type": "display_data"
    }
   ],
   "source": [
    "# %% Gráfico del pronóstico\n",
    "esc = 1_000_000 # millones\n",
    "fecha_pronostico = pd.date_range(start=fecha_regresion.iloc[0], periods=N_dias_pronostico)\n",
    "df_res = pd.DataFrame({\n",
    "                   'fecha':fecha_pronostico, \n",
    "                   'Susceptibles':S/esc,                     \n",
    "                   'Infectados':I/esc,\n",
    "                   'Recuperados':R/esc, \n",
    "                   'Decesos':D/esc,\n",
    "                   'Casos confirmados':(I + R + D)/esc,                   \n",
    "                  }).set_index('fecha')\n",
    "fig, ax = plt.subplots()\n",
    "df_res.plot(ax=ax)\n",
    "ax.set_xlabel(\"Fecha\")\n",
    "ax.set_ylabel(\"Personas [millones]\")\n",
    "ax.set_title('Pronóstico de la evolución del COVID 19 para Colombia\\n(modelo SIRD)') \n",
    "ax.legend(loc='best')\n",
    "ax.grid(True, which=\"both\")    \n",
    "ax.annotate(fecha_hoy.strftime('%b %d, %Y'), xy=(fecha_hoy,0.5), xytext=(fecha_hoy, 30),\n",
    "            arrowprops=dict(facecolor='black', shrink=0.05), rotation=90\n",
    "            )\n",
    "ax.autoscale(enable=True, axis='x', tight=True)\n",
    "#plt.yscale('log')"
   ]
  },
  {
   "cell_type": "markdown",
   "metadata": {},
   "source": [
    "De esta gráfica se observa que el pico de la pandemia estará alrededor de Febrero 1 de 2020:"
   ]
  },
  {
   "cell_type": "code",
   "execution_count": 17,
   "metadata": {},
   "outputs": [
    {
     "data": {
      "text/plain": [
       "Timestamp('2021-02-01 05:00:00+0000', tz='UTC', freq='D')"
      ]
     },
     "execution_count": 17,
     "metadata": {},
     "output_type": "execute_result"
    }
   ],
   "source": [
    "df_res['Infectados'].idxmax()"
   ]
  },
  {
   "cell_type": "markdown",
   "metadata": {},
   "source": [
    "Y que al final de la misma tendremos aproximadamente:"
   ]
  },
  {
   "cell_type": "code",
   "execution_count": 23,
   "metadata": {},
   "outputs": [
    {
     "name": "stdout",
     "output_type": "stream",
     "text": [
      "Número de defunciones al final de la pandemia = 1442650 personas\n"
     ]
    }
   ],
   "source": [
    "print(f'Número de defunciones al final de la pandemia = {D[-1]:.0f} personas')"
   ]
  },
  {
   "cell_type": "markdown",
   "metadata": {},
   "source": [
    "## Análisis de resultados y comentarios finales"
   ]
  },
  {
   "cell_type": "markdown",
   "metadata": {},
   "source": [
    "Los resultados aquí mostrados nos dan una pista de que el pico de la pandemia se presentará a principios del 2021 y terminará en el segundo semestre del 2021. De todas formas, dichas fechas tentativas dependerán mucho de las acciones gubernamentales adoptadas, de la cultura ciudadana de autocuidado y distanciamiento social y del avance en las investigaciones de vacunas, fármacos y tratamientos para el manejo del COVID.\n",
    "\n",
    "El modelo utilizado es muy sensible a las condiciones iniciales, a los parámetros $\\beta$, $\\gamma$ y $\\mu$; además, según lo mencionado en la sección ***Limitaciones y suposiciones del modelo SIRD***, son muchos los factores que intervienen en la dinámica de la pandemia que no están apropiadamente representadas en el modelo matemático, el cual puede llevar a variaciones en los resultados.\n",
    "\n",
    "El modelo muestra que es nuestra responsabilidad adoptar medidas personales de aislamiento y buena higiene, ya que de lo contrario más de un millón de personas podrían fallecer.\n",
    "\n",
    "Finalmente, tenga en cuenta que yo no soy un epidemiólogo; soy un ingeniero que aplica estas técnicas en la modelación de estructuras. Sería de mi agrado que epidemiólogos, virólogos y salubristas y otros profesionales de la salud me hicieran comentarios al respecto de este análisis."
   ]
  }
 ],
 "metadata": {
  "kernelspec": {
   "display_name": "Python 3",
   "language": "python",
   "name": "python3"
  },
  "language_info": {
   "codemirror_mode": {
    "name": "ipython",
    "version": 3
   },
   "file_extension": ".py",
   "mimetype": "text/x-python",
   "name": "python",
   "nbconvert_exporter": "python",
   "pygments_lexer": "ipython3",
   "version": "3.8.3"
  }
 },
 "nbformat": 4,
 "nbformat_minor": 4
}
